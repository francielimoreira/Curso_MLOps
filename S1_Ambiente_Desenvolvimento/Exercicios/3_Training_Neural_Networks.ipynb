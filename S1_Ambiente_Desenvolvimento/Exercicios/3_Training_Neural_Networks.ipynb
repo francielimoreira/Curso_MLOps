{
 "cells": [
  {
   "cell_type": "markdown",
   "metadata": {},
   "source": [
    "# Treinamento de Redes Neurais\n",
    "\n",
    "A rede que construímos na parte anterior não é tão inteligente, não sabe nada sobre os nossos dígitos manuscritos. Redes neurais com ativações não lineares funcionam como aproximadores de funções universais. Existe alguma função que mapeia sua entrada para a saída. Por exemplo, imagens de dígitos manuscritos para classificar probabilidades. O poder das redes neurais é que podemos treiná-las para aproximar essa função e, basicamente, qualquer função com dados e tempo de computação suficientes.\n",
    "\n",
    "<img src=\"assets/function_approx.png\" largura=500px>\n",
    "\n",
    "A princípio a rede é ingênua, não conhece a função que mapeia as entradas para as saídas. Treinamos a rede mostrando exemplos de dados reais e, em seguida, ajustando os parâmetros da rede de forma que se aproxime desta função.\n",
    "\n",
    "Para encontrar esses parâmetros, precisamos saber quão mal a rede está prevendo os resultados reais. Para isso calculamos uma **função de perda** (também chamada de custo), uma medida do nosso erro de previsão. Por exemplo, a perda quadrática média é frequentemente usada em problemas de regressão e classificação binária\n",
    "\n",
    "$$\n",
    "\\large \\ell = \\frac{1}{2n}\\sum_i^n{\\left(y_i - \\hat{y}_i\\right)^2}\n",
    "$$\n",
    "\n",
    "onde $n$ é o número de exemplos de treinamento, $y_i$ são os rótulos verdadeiros e $\\hat{y}_i$ são os rótulos previstos.\n",
    "\n",
    "Ao minimizar esta perda em relação aos parâmetros da rede, podemos encontrar configurações onde a perda é mínima e a rede é capaz de prever os rótulos corretos com alta precisão. Encontramos esse mínimo usando um processo chamado **gradiente descendente**. O gradiente é a inclinação da função de perda e aponta na direção da mudança mais rápida. Para chegar ao mínimo no menor tempo, queremos então seguir o gradiente (para baixo). Você pode pensar nisso como descer uma montanha seguindo a encosta mais íngreme até a base.\n",
    "\n",
    "<img src='assets/gradient_descent.png' largura=350px>"
   ]
  },
  {
   "cell_type": "markdown",
   "metadata": {},
   "source": [
    "## Backpropagation\n",
    "\n",
    "Para redes de camada única, a descida gradiente é simples de implementar. No entanto, é mais complicado para redes neurais multicamadas mais profundas como a que construímos. Complicado o suficiente, demorou cerca de 30 anos até que os pesquisadores descobrissem como treinar redes multicamadas.\n",
    "\n",
    "O treinamento de redes multicamadas é feito por meio de **backpropagation**, que na verdade é apenas uma aplicação da regra da cadeia do cálculo. É mais fácil de entender se convertermos uma rede de duas camadas em uma representação gráfica.\n",
    "\n",
    "<img src='assets/backprop_diagram.png' largura=550px>\n",
    "\n",
    "Na passagem direta pela rede, nossos dados e operações vão de baixo para cima aqui. Passamos a entrada $x$ por uma transformação linear $L_1$ com pesos $W_1$ e vieses $b_1$. A saída então passa pela operação sigmóide $S$ e outra transformação linear $L_2$. Finalmente calculamos a perda $\\ell$. Usamos a perda como uma medida de quão ruins são as previsões da rede. O objetivo então é ajustar os pesos e vieses para minimizar a perda.\n",
    "\n",
    "Para treinar os pesos com gradiente descendente, propagamos o gradiente da perda para trás através da rede. Cada operação possui algum gradiente entre as entradas e saídas. À medida que enviamos os gradientes para trás, multiplicamos o gradiente de entrada pelo gradiente da operação. Matematicamente, isso é apenas calcular o gradiente da perda em relação aos pesos usando a regra da cadeia.\n",
    "\n",
    "$$\n",
    "\\large \\frac{\\partial \\ell}{\\partial W_1} = \\frac{\\partial L_1}{\\partial W_1} \\frac{\\partial S}{\\partial L_1} \\frac{\\partial L_2}{\\partial S} \\frac{\\partial \\ell}{\\partial L_2}\n",
    "$$\n",
    "\n",
    "**Observação:** estou encobrindo alguns detalhes aqui que exigem algum conhecimento de cálculo vetorial, mas eles não são necessários para entender o que está acontecendo.\n",
    "\n",
    "Atualizamos nossos pesos usando este gradiente com alguma taxa de aprendizado $\\alpha$.\n",
    "\n",
    "$$\n",
    "\\large W^\\prime_1 = W_1 - \\alpha \\frac{\\partial \\ell}{\\partial W_1}\n",
    "$$\n",
    "\n",
    "A taxa de aprendizagem $\\alpha$ é definida de forma que as etapas de atualização do peso sejam pequenas o suficiente para que o método iterativo se estabeleça no mínimo."
   ]
  },
  {
   "cell_type": "markdown",
   "metadata": {},
   "source": [
    "## Losses in PyTorch\n",
    "\n",
    "Vamos começar vendo como calculamos a perda com PyTorch. Através do módulo `nn`, PyTorch fornece perdas como a perda de entropia cruzada (`nn.CrossEntropyLoss`). Normalmente você verá a perda atribuída ao `critério`. Conforme observado na última parte, com um problema de classificação como o MNIST, estamos usando a função softmax para prever probabilidades de classe. Com uma saída softmax, você deseja usar entropia cruzada como perda. Para realmente calcular a perda, primeiro você define o critério e depois passa a saída da sua rede e os rótulos corretos.\n",
    "\n",
    "Algo realmente importante a ser observado aqui. Olhando [a documentação para `nn.CrossEntropyLoss`](https://pytorch.org/docs/stable/nn.html#torch.nn.CrossEntropyLoss),\n",
    "\n",
    "> Este critério combina `nn.LogSoftmax()` e `nn.NLLLoss()` em uma única classe.\n",
    ">\n",
    "> Espera-se que a entrada contenha pontuações para cada classe.\n",
    "\n",
    "Isso significa que precisamos passar a saída bruta de nossa rede para a perda, não a saída da função softmax. Essa saída bruta é geralmente chamada de *logits* ou *scores*. Usamos os logits porque o softmax fornece probabilidades que geralmente serão muito próximas de zero ou um, mas os números de ponto flutuante não podem representar com precisão valores próximos de zero ou um ([leia mais aqui](https://docs.python.org /3/tutorial/ponto flutuante.html)). Geralmente é melhor evitar fazer cálculos com probabilidades, normalmente usamos log-probabilidades."
   ]
  },
  {
   "cell_type": "code",
   "execution_count": 18,
   "metadata": {},
   "outputs": [],
   "source": [
    "import torch\n",
    "from torch import nn\n",
    "import torch.nn.functional as F\n",
    "from torchvision import datasets, transforms\n",
    "\n",
    "# Define a transform to normalize the data\n",
    "transform = transforms.Compose([transforms.ToTensor(),\n",
    "                                transforms.Normalize((0.5,), (0.5,)),\n",
    "                              ])\n",
    "# Download and load the training data\n",
    "trainset = datasets.MNIST('~/.pytorch/MNIST_data/', download=True, train=True, transform=transform)\n",
    "trainloader = torch.utils.data.DataLoader(trainset, batch_size=64, shuffle=True)"
   ]
  },
  {
   "cell_type": "markdown",
   "metadata": {},
   "source": [
    "### Note\n",
    "Se você ainda não viu `nn.Sequential`, por favor termine o final do caderno da Parte 2."
   ]
  },
  {
   "cell_type": "code",
   "execution_count": 19,
   "metadata": {},
   "outputs": [
    {
     "name": "stdout",
     "output_type": "stream",
     "text": [
      "tensor(2.3235, grad_fn=<NllLossBackward0>)\n"
     ]
    }
   ],
   "source": [
    "# Build a feed-forward network\n",
    "model = nn.Sequential(nn.Linear(784, 128),\n",
    "                      nn.ReLU(),\n",
    "                      nn.Linear(128, 64),\n",
    "                      nn.ReLU(),\n",
    "                      nn.Linear(64, 10))\n",
    "\n",
    "# Define the loss\n",
    "criterion = nn.CrossEntropyLoss()\n",
    "\n",
    "# Get our data\n",
    "dataiter = iter(trainloader)\n",
    "\n",
    "images, labels = next(dataiter)\n",
    "\n",
    "# Flatten images\n",
    "images = images.view(images.shape[0], -1)\n",
    "\n",
    "# Forward pass, get our logits\n",
    "logits = model(images)\n",
    "# Calculate the loss with the logits and the labels\n",
    "loss = criterion(logits, labels)\n",
    "\n",
    "print(loss)"
   ]
  },
  {
   "cell_type": "markdown",
   "metadata": {},
   "source": [
    "Na minha experiência, é mais conveniente construir o modelo com uma saída log-softmax usando `nn.LogSoftmax` ou `F.log_softmax` ([documentação](https://pytorch.org/docs/stable/nn.html#torch .nn.LogSoftmax)). Então você pode obter as probabilidades reais tomando o exponencial `torch.exp(output)`. Com uma saída log-softmax, você deseja usar a perda de probabilidade de log negativa, `nn.NLLLoss` ([documentação](https://pytorch.org/docs/stable/nn.html#torch.nn.NLLLoss)) .\n",
    "\n",
    ">**Exercício:** Construa um modelo que retorne o log-softmax como saída e calcule a perda usando o log de perda de probabilidade negativa. Observe que para `nn.LogSoftmax` e `F.log_softmax` você precisará definir o argumento da palavra-chave `dim` apropriadamente. `dim = 0` calcula softmax nas linhas, de modo que cada coluna soma 1, enquanto `dim = 1` calcula nas colunas de forma que cada linha soma 1. Pense em como você deseja que a saída seja e escolha `dim` apropriadamente ."
   ]
  },
  {
   "cell_type": "code",
   "execution_count": 20,
   "metadata": {},
   "outputs": [
    {
     "ename": "SyntaxError",
     "evalue": "invalid syntax (736701735.py, line 2)",
     "output_type": "error",
     "traceback": [
      "\u001b[0;36m  Cell \u001b[0;32mIn[20], line 2\u001b[0;36m\u001b[0m\n\u001b[0;31m    model =\u001b[0m\n\u001b[0m            ^\u001b[0m\n\u001b[0;31mSyntaxError\u001b[0m\u001b[0;31m:\u001b[0m invalid syntax\n"
     ]
    }
   ],
   "source": [
    "# TODO: Build a feed-forward network\n",
    "model = \n",
    "\n",
    "# TODO: Define the loss\n",
    "criterion = \n",
    "\n",
    "### Run this to check your work\n",
    "# Get our data\n",
    "dataiter = iter(trainloader)\n",
    "\n",
    "images, labels = next(dataiter)\n",
    "\n",
    "# Flatten images\n",
    "images = images.view(images.shape[0], -1)\n",
    "\n",
    "# Forward pass, get our logits\n",
    "logits = model(images)\n",
    "# Calculate the loss with the logits and the labels\n",
    "loss = criterion(logits, labels)\n",
    "\n",
    "print(loss)"
   ]
  },
  {
   "cell_type": "code",
   "execution_count": null,
   "metadata": {},
   "outputs": [
    {
     "name": "stdout",
     "output_type": "stream",
     "text": [
      "tensor(2.3005, grad_fn=<NllLossBackward0>)\n"
     ]
    }
   ],
   "source": [
    "# Define a class for the model\n",
    "class LogSoftmaxModel(nn.Module):\n",
    "    def __init__(self):\n",
    "        super(LogSoftmaxModel, self).__init__()\n",
    "        self.layers = nn.Sequential(\n",
    "            nn.Linear(784, 128),\n",
    "            nn.ReLU(),\n",
    "            nn.Linear(128, 64),\n",
    "            nn.ReLU(),\n",
    "            nn.Linear(64, 10)\n",
    "        )\n",
    "        self.log_softmax = nn.LogSoftmax(dim=1)  # Apply log-softmax along dimension 1\n",
    "\n",
    "    def forward(self, x):\n",
    "        x = x.view(-1, 784)  # Flatten input tensor\n",
    "        x = self.layers(x)\n",
    "        return self.log_softmax(x)\n",
    "\n",
    "# Create an instance of the model\n",
    "model = LogSoftmaxModel()\n",
    "\n",
    "# Define the negative log likelihood loss\n",
    "criterion = nn.NLLLoss()\n",
    "\n",
    "# Assuming you have your data loaded in 'images' and 'labels'\n",
    "# Forward pass\n",
    "log_ps = model(images)\n",
    "\n",
    "# Calculate the loss\n",
    "loss = criterion(log_ps, labels)\n",
    "\n",
    "print(loss)\n"
   ]
  },
  {
   "cell_type": "markdown",
   "metadata": {},
   "source": [
    "## Autograduação\n",
    "\n",
    "Agora que sabemos como calcular uma perda, como podemos utilizá-la para realizar a retropropagação? O Torch fornece um módulo, `autograd`, para calcular automaticamente os gradientes dos tensores. Podemos usá-lo para calcular os gradientes de todos os nossos parâmetros em relação à perda. O Autograd funciona monitorando as operações realizadas nos tensores e, em seguida, retrocedendo nessas operações, calculando gradientes ao longo do caminho. Para garantir que o PyTorch monitore as operações em um tensor e calcule os gradientes, você precisa definir `requires_grad = True` em um tensor. Você pode fazer isso na criação com a palavra-chave `requires_grad` ou a qualquer momento com `x.requires_grad_(True)`.\n",
    "\n",
    "Você pode desativar gradientes para um bloco de código com o conteúdo `torch.no_grad()`:\n",
    "```píton\n",
    "x = torch.zeros(1, requer_grad=True)\n",
    ">>> com torch.no_grad():\n",
    "... y = x * 2\n",
    ">>> y.requires_grad\n",
    "Falso\n",
    "```\n",
    "\n",
    "Além disso, você pode ativar ou desativar gradientes completamente com `torch.set_grad_enabled(True|False)`.\n",
    "\n",
    "Os gradientes são calculados em relação a alguma variável `z` com `z.backward()`. Isso faz uma passagem reversa pelas operações que criaram `z`."
   ]
  },
  {
   "cell_type": "code",
   "execution_count": null,
   "metadata": {},
   "outputs": [
    {
     "name": "stdout",
     "output_type": "stream",
     "text": [
      "tensor([[-0.7684,  0.1420],\n",
      "        [-0.9056, -1.2921]], requires_grad=True)\n"
     ]
    }
   ],
   "source": [
    "x = torch.randn(2,2, requires_grad=True)\n",
    "print(x)"
   ]
  },
  {
   "cell_type": "code",
   "execution_count": null,
   "metadata": {},
   "outputs": [
    {
     "name": "stdout",
     "output_type": "stream",
     "text": [
      "tensor([[0.5904, 0.0202],\n",
      "        [0.8201, 1.6694]], grad_fn=<PowBackward0>)\n"
     ]
    }
   ],
   "source": [
    "y = x**2\n",
    "print(y)"
   ]
  },
  {
   "cell_type": "markdown",
   "metadata": {},
   "source": [
    "Abaixo podemos ver a operação que criou `y`, uma operação de potência `PowBackward0`."
   ]
  },
  {
   "cell_type": "code",
   "execution_count": null,
   "metadata": {},
   "outputs": [
    {
     "name": "stdout",
     "output_type": "stream",
     "text": [
      "<PowBackward0 object at 0x7f298f223280>\n"
     ]
    }
   ],
   "source": [
    "## grad_fn mostra a função que gerou esta variável\n",
    "print(y.grad_fn)"
   ]
  },
  {
   "cell_type": "markdown",
   "metadata": {},
   "source": [
    "O módulo autograd acompanha essas operações e sabe como calcular o gradiente de cada uma. Desta forma, é possível calcular os gradientes para uma cadeia de operações, em relação a qualquer tensor. Vamos reduzir o tensor `y` a um valor escalar, a média."
   ]
  },
  {
   "cell_type": "code",
   "execution_count": null,
   "metadata": {},
   "outputs": [
    {
     "name": "stdout",
     "output_type": "stream",
     "text": [
      "tensor(0.7750, grad_fn=<MeanBackward0>)\n"
     ]
    }
   ],
   "source": [
    "z = y.mean()\n",
    "print(z)"
   ]
  },
  {
   "cell_type": "markdown",
   "metadata": {},
   "source": [
    "Você pode verificar os gradientes de `x` e `y`, mas eles estão vazios no momento."
   ]
  },
  {
   "cell_type": "code",
   "execution_count": null,
   "metadata": {},
   "outputs": [
    {
     "name": "stdout",
     "output_type": "stream",
     "text": [
      "None\n"
     ]
    }
   ],
   "source": [
    "print(x.grad)"
   ]
  },
  {
   "cell_type": "markdown",
   "metadata": {},
   "source": [
    "Para calcular os gradientes, você precisa executar o método `.backward` em uma variável, `z` por exemplo. Isso calculará o gradiente de `z` em relação a `x`\n",
    "\n",
    "$$\n",
    "\\frac{\\partial z}{\\partial x} = \\frac{\\partial}{\\partial x}\\left[\\frac{1}{n}\\sum_i^n x_i^2\\right] = \\frac{x }{2}\n",
    "$$"
   ]
  },
  {
   "cell_type": "code",
   "execution_count": null,
   "metadata": {},
   "outputs": [
    {
     "name": "stdout",
     "output_type": "stream",
     "text": [
      "tensor([[-0.3842,  0.0710],\n",
      "        [-0.4528, -0.6460]])\n",
      "tensor([[-0.3842,  0.0710],\n",
      "        [-0.4528, -0.6460]], grad_fn=<DivBackward0>)\n"
     ]
    }
   ],
   "source": [
    "z.backward()\n",
    "print(x.grad)\n",
    "print(x/2)"
   ]
  },
  {
   "cell_type": "markdown",
   "metadata": {},
   "source": [
    "Esses cálculos de gradiente são particularmente úteis para redes neurais. Para o treinamento precisamos dos gradientes de custo em relação aos pesos. Com o PyTorch, avançamos os dados pela rede para calcular a perda e, em seguida, retrocedemos para calcular os gradientes em relação à perda. Assim que tivermos os gradientes, podemos dar um passo de descida do gradiente."
   ]
  },
  {
   "cell_type": "markdown",
   "metadata": {},
   "source": [
    "## Loss and Autograd together\n",
    "\n",
    "Quando criamos uma rede com PyTorch, todos os parâmetros são inicializados com `requires_grad = True`. Isso significa que quando calculamos a perda e chamamos `loss.backward()`, os gradientes dos parâmetros são calculados. Esses gradientes são usados para atualizar os pesos com a descida do gradiente. Abaixo você pode ver um exemplo de cálculo dos gradientes usando uma passagem para trás."
   ]
  },
  {
   "cell_type": "code",
   "execution_count": null,
   "metadata": {},
   "outputs": [],
   "source": [
    "# Build a feed-forward network\n",
    "model = nn.Sequential(nn.Linear(784, 128),\n",
    "                      nn.ReLU(),\n",
    "                      nn.Linear(128, 64),\n",
    "                      nn.ReLU(),\n",
    "                      nn.Linear(64, 10),\n",
    "                      nn.LogSoftmax(dim=1))\n",
    "\n",
    "criterion = nn.NLLLoss()\n",
    "dataiter = iter(trainloader)\n",
    "images, labels = next(dataiter)\n",
    "images = images.view(images.shape[0], -1)\n",
    "\n",
    "logits = model(images)\n",
    "loss = criterion(logits, labels)"
   ]
  },
  {
   "cell_type": "code",
   "execution_count": null,
   "metadata": {},
   "outputs": [
    {
     "name": "stdout",
     "output_type": "stream",
     "text": [
      "Before backward pass: \n",
      " None\n",
      "After backward pass: \n",
      " tensor([[-0.0023, -0.0023, -0.0023,  ..., -0.0023, -0.0023, -0.0023],\n",
      "        [ 0.0013,  0.0013,  0.0013,  ...,  0.0013,  0.0013,  0.0013],\n",
      "        [ 0.0001,  0.0001,  0.0001,  ...,  0.0001,  0.0001,  0.0001],\n",
      "        ...,\n",
      "        [ 0.0038,  0.0038,  0.0038,  ...,  0.0038,  0.0038,  0.0038],\n",
      "        [-0.0008, -0.0008, -0.0008,  ..., -0.0008, -0.0008, -0.0008],\n",
      "        [ 0.0005,  0.0005,  0.0005,  ...,  0.0005,  0.0005,  0.0005]])\n"
     ]
    }
   ],
   "source": [
    "print('Before backward pass: \\n', model[0].weight.grad)\n",
    "\n",
    "loss.backward()\n",
    "\n",
    "print('After backward pass: \\n', model[0].weight.grad)"
   ]
  },
  {
   "cell_type": "markdown",
   "metadata": {},
   "source": [
    "## Training the network!\n",
    "\n",
    "Há uma última peça que precisamos para começar a treinar, um otimizador que usaremos para atualizar os pesos com os gradientes. Obtemos isso do [pacote `optim`] do PyTorch (https://pytorch.org/docs/stable/optim.html). Por exemplo, podemos usar descida gradiente estocástica com `optim.SGD`. Você pode ver como definir um otimizador abaixo."
   ]
  },
  {
   "cell_type": "code",
   "execution_count": null,
   "metadata": {},
   "outputs": [],
   "source": [
    "from torch import optim\n",
    "\n",
    "# Optimizers require the parameters to optimize and a learning rate\n",
    "optimizer = optim.SGD(model.parameters(), lr=0.01)"
   ]
  },
  {
   "cell_type": "markdown",
   "metadata": {},
   "source": [
    "Agora sabemos como usar todas as peças individuais, então é hora de ver como elas funcionam juntas. Vamos considerar apenas uma etapa de aprendizado antes de percorrer todos os dados. O processo geral com PyTorch:\n",
    "\n",
    "* Faça uma passagem direta pela rede\n",
    "* Use a saída da rede para calcular a perda\n",
    "* Execute backward pela rede com `loss.backward()` para calcular os gradientes\n",
    "* Dê um passo com o otimizador para atualizar os pesos\n",
    "\n",
    "Abaixo, passarei por uma etapa de treinamento e imprimirei os pesos e gradientes para que você possa ver como isso muda. Observe que tenho uma linha de código `optimizer.zero_grad()`. Quando você faz várias passagens para trás com os mesmos parâmetros, os gradientes são acumulados. Isso significa que você precisa zerar os gradientes em cada passagem de treinamento ou manterá os gradientes dos lotes de treinamento anteriores."
   ]
  },
  {
   "cell_type": "code",
   "execution_count": null,
   "metadata": {},
   "outputs": [
    {
     "name": "stdout",
     "output_type": "stream",
     "text": [
      "Initial weights -  Parameter containing:\n",
      "tensor([[ 0.0309, -0.0250, -0.0049,  ...,  0.0162, -0.0110,  0.0256],\n",
      "        [ 0.0317,  0.0098,  0.0100,  ...,  0.0314,  0.0233,  0.0213],\n",
      "        [-0.0334,  0.0336, -0.0271,  ..., -0.0072, -0.0180,  0.0341],\n",
      "        ...,\n",
      "        [ 0.0125, -0.0330,  0.0037,  ...,  0.0048,  0.0273, -0.0253],\n",
      "        [ 0.0209,  0.0188,  0.0148,  ...,  0.0182, -0.0107, -0.0125],\n",
      "        [-0.0306, -0.0305, -0.0243,  ..., -0.0255,  0.0081,  0.0094]],\n",
      "       requires_grad=True)\n",
      "Gradient - tensor([[-4.4076e-04, -4.4076e-04, -4.4076e-04,  ..., -4.4076e-04,\n",
      "         -4.4076e-04, -4.4076e-04],\n",
      "        [ 1.1082e-03,  1.1082e-03,  1.1082e-03,  ...,  1.1082e-03,\n",
      "          1.1082e-03,  1.1082e-03],\n",
      "        [ 8.9868e-05,  8.9868e-05,  8.9868e-05,  ...,  8.9868e-05,\n",
      "          8.9868e-05,  8.9868e-05],\n",
      "        ...,\n",
      "        [-1.0804e-03, -1.0804e-03, -1.0804e-03,  ..., -1.0804e-03,\n",
      "         -1.0804e-03, -1.0804e-03],\n",
      "        [-3.1452e-03, -3.1452e-03, -3.1452e-03,  ..., -3.1452e-03,\n",
      "         -3.1452e-03, -3.1452e-03],\n",
      "        [ 1.2526e-03,  1.2526e-03,  1.2526e-03,  ...,  1.2526e-03,\n",
      "          1.2526e-03,  1.2526e-03]])\n"
     ]
    }
   ],
   "source": [
    "print('Initial weights - ', model[0].weight)\n",
    "\n",
    "dataiter = iter(trainloader)\n",
    "images, labels = next(dataiter)\n",
    "images.resize_(64, 784)\n",
    "\n",
    "# Clear the gradients, do this because gradients are accumulated\n",
    "optimizer.zero_grad()\n",
    "\n",
    "# Forward pass, then backward pass, then update weights\n",
    "output = model(images)\n",
    "loss = criterion(output, labels)\n",
    "loss.backward()\n",
    "print('Gradient -', model[0].weight.grad)"
   ]
  },
  {
   "cell_type": "code",
   "execution_count": 21,
   "metadata": {},
   "outputs": [
    {
     "name": "stdout",
     "output_type": "stream",
     "text": [
      "Updated weights -  Parameter containing:\n",
      "tensor([[ 0.0035, -0.0073, -0.0062,  ...,  0.0228,  0.0028, -0.0214],\n",
      "        [-0.0122,  0.0057, -0.0071,  ..., -0.0234,  0.0100,  0.0142],\n",
      "        [ 0.0091, -0.0177, -0.0181,  ...,  0.0266, -0.0095,  0.0097],\n",
      "        ...,\n",
      "        [ 0.0356,  0.0055, -0.0240,  ...,  0.0264,  0.0262,  0.0013],\n",
      "        [-0.0355, -0.0325,  0.0152,  ..., -0.0236, -0.0330,  0.0267],\n",
      "        [-0.0206,  0.0212,  0.0356,  ..., -0.0267,  0.0333,  0.0349]],\n",
      "       requires_grad=True)\n"
     ]
    }
   ],
   "source": [
    "# Take an update step and view the new weights\n",
    "optimizer.step()\n",
    "print('Updated weights - ', model[0].weight)"
   ]
  },
  {
   "cell_type": "markdown",
   "metadata": {},
   "source": [
    "### Training for real\n",
    "\n",
    "Agora colocaremos esse algoritmo em um loop para que possamos percorrer todas as imagens. Em alguma nomenclatura, uma passagem por todo o conjunto de dados é chamada de *época*. Então aqui vamos percorrer o `trainloader` para obter nossos lotes de treinamento. Para cada lote, faremos uma passagem de treinamento onde calculamos a perda, fazemos uma passagem para trás e atualizamos os pesos.\n",
    "\n",
    ">**Exercício:** Implemente o passe de treinamento para nossa rede. Se você implementou corretamente, deverá ver a perda de treinamento cair a cada época."
   ]
  },
  {
   "cell_type": "code",
   "execution_count": 22,
   "metadata": {},
   "outputs": [
    {
     "name": "stdout",
     "output_type": "stream",
     "text": [
      "Training loss: 1.9269187341112572\n",
      "Training loss: 0.8646754729531722\n",
      "Training loss: 0.5306342620331087\n",
      "Training loss: 0.43102499194490884\n",
      "Training loss: 0.38605478620414796\n"
     ]
    }
   ],
   "source": [
    "## Your solution here\n",
    "\n",
    "model = nn.Sequential(nn.Linear(784, 128),\n",
    "                      nn.ReLU(),\n",
    "                      nn.Linear(128, 64),\n",
    "                      nn.ReLU(),\n",
    "                      nn.Linear(64, 10),\n",
    "                      nn.LogSoftmax(dim=1))\n",
    "\n",
    "criterion = nn.NLLLoss()\n",
    "optimizer = optim.SGD(model.parameters(), lr=0.003)\n",
    "\n",
    "epochs = 5\n",
    "for e in range(epochs):\n",
    "    running_loss = 0\n",
    "    for images, labels in trainloader:\n",
    "        # Flatten MNIST images into a 784 long vector\n",
    "        images = images.view(images.shape[0], -1)\n",
    "    \n",
    "        # Training pass\n",
    "\n",
    "        # Clear the gradients\n",
    "        optimizer.zero_grad()\n",
    "\n",
    "        # Forward pass\n",
    "        output = model(images)\n",
    "        \n",
    "        #calculate the loss\n",
    "        loss = criterion(output, labels)\n",
    "\n",
    "        #backward pass\n",
    "        loss.backward()\n",
    "\n",
    "        #update weights\n",
    "        optimizer.step()\n",
    "        \n",
    "        running_loss += loss.item()\n",
    "    else:\n",
    "        print(f\"Training loss: {running_loss/len(trainloader)}\")"
   ]
  },
  {
   "cell_type": "markdown",
   "metadata": {},
   "source": [
    "Com a rede treinada, podemos verificar suas previsões."
   ]
  },
  {
   "cell_type": "code",
   "execution_count": 23,
   "metadata": {},
   "outputs": [
    {
     "data": {
      "image/png": "[encoded data removed]",
      "text/plain": [
       "<Figure size 600x900 with 2 Axes>"
      ]
     },
     "metadata": {},
     "output_type": "display_data"
    }
   ],
   "source": [
    "%matplotlib inline\n",
    "import helper\n",
    "\n",
    "dataiter = iter(trainloader)\n",
    "images, labels = next(dataiter)\n",
    "\n",
    "img = images[0].view(1, 784)\n",
    "# Turn off gradients to speed up this part\n",
    "with torch.no_grad():\n",
    "    logps = model(img)\n",
    "\n",
    "# Output of the network are log-probabilities, need to take exponential for probabilities\n",
    "ps = torch.exp(logps)\n",
    "helper.view_classify(img.view(1, 28, 28), ps)"
   ]
  },
  {
   "cell_type": "markdown",
   "metadata": {},
   "source": [
    "Agora nossa rede é (quase) brilhante (treinamos e “testamos” nos mesmos dados). Ele pode prever com precisão os dígitos em nossas imagens. A seguir, você escreverá o código para treinar uma rede neural em um conjunto de dados mais complexo."
   ]
  }
 ],
 "metadata": {
  "kernelspec": {
   "display_name": "Python 3",
   "language": "python",
   "name": "python3"
  },
  "language_info": {
   "codemirror_mode": {
    "name": "ipython",
    "version": 3
   },
   "file_extension": ".py",
   "mimetype": "text/x-python",
   "name": "python",
   "nbconvert_exporter": "python",
   "pygments_lexer": "ipython3",
   "version": "3.11.8"
  }
 },
 "nbformat": 4,
 "nbformat_minor": 2
}
