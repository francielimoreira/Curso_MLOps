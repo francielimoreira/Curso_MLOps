{
 "cells": [
  {
   "cell_type": "markdown",
   "metadata": {},
   "source": [
    "# Inference and Validation\n",
    "\n",
    "Agora que você tem uma rede treinada, pode usá-la para fazer previsões. Isso normalmente é chamado de **inferência**, um termo emprestado das estatísticas. No entanto, as redes neurais tendem a ter um desempenho *muito bom* nos dados de treinamento e não são capazes de generalizar para dados que não foram vistos antes. Isso é chamado de **overfitting** e prejudica o desempenho da inferência. Para testar o overfitting durante o treinamento, medimos o desempenho em dados que não estão no conjunto de treinamento chamado conjunto de **validação**. Evitamos overfitting por meio de regularização, como abandono, enquanto monitoramos o desempenho da validação durante o treinamento. Neste notebook, mostrarei como fazer isso no PyTorch.\n",
    "\n",
    "Como sempre, vamos começar carregando o conjunto de dados por meio do torchvision. Você aprenderá mais sobre o torchvision e o carregamento de dados posteriormente. Desta vez aproveitaremos o conjunto de testes que você pode obter definindo `train=False` aqui:\n",
    "\n",
    "```píton\n",
    "testset = datasets.FashionMNIST('~/.pytorch/F_MNIST_data/', download=True, train=False, transform=transform)\n",
    "```\n",
    "\n",
    "O conjunto de teste contém imagens exatamente como o conjunto de treinamento. Normalmente, você verá de 10 a 20% do conjunto de dados original mantido para teste e validação, com o restante sendo usado para treinamento."
   ]
  },
  {
   "cell_type": "code",
   "execution_count": 6,
   "metadata": {},
   "outputs": [],
   "source": [
    "import torch\n",
    "from torchvision import datasets, transforms\n",
    "\n",
    "# Define a transform to normalize the data\n",
    "transform = transforms.Compose([transforms.ToTensor(),\n",
    "                                transforms.Normalize((0.5,), (0.5,))])\n",
    "# Download and load the training data\n",
    "trainset = datasets.FashionMNIST('~/.pytorch/F_MNIST_data/', download=True, train=True, transform=transform)\n",
    "trainloader = torch.utils.data.DataLoader(trainset, batch_size=64, shuffle=True)\n",
    "\n",
    "# Download and load the test data\n",
    "testset = datasets.FashionMNIST('~/.pytorch/F_MNIST_data/', download=True, train=False, transform=transform)\n",
    "testloader = torch.utils.data.DataLoader(testset, batch_size=64, shuffle=True)"
   ]
  },
  {
   "cell_type": "markdown",
   "metadata": {},
   "source": [
    "Aqui vou criar um modelo normal, usando o mesmo da minha solução para a parte 4."
   ]
  },
  {
   "cell_type": "code",
   "execution_count": 7,
   "metadata": {},
   "outputs": [],
   "source": [
    "from torch import nn, optim\n",
    "import torch.nn.functional as F\n",
    "\n",
    "class Classifier(nn.Module):\n",
    "    def __init__(self):\n",
    "        super().__init__()\n",
    "        self.fc1 = nn.Linear(784, 256)\n",
    "        self.fc2 = nn.Linear(256, 128)\n",
    "        self.fc3 = nn.Linear(128, 64)\n",
    "        self.fc4 = nn.Linear(64, 10)\n",
    "        \n",
    "    def forward(self, x):\n",
    "        # make sure input tensor is flattened\n",
    "        x = x.view(x.shape[0], -1)\n",
    "        \n",
    "        x = F.relu(self.fc1(x))\n",
    "        x = F.relu(self.fc2(x))\n",
    "        x = F.relu(self.fc3(x))\n",
    "        x = F.log_softmax(self.fc4(x), dim=1)\n",
    "        \n",
    "        return x"
   ]
  },
  {
   "cell_type": "markdown",
   "metadata": {},
   "source": [
    "O objetivo da validação é medir o desempenho do modelo em dados que não fazem parte do conjunto de treinamento. O desempenho aqui cabe ao desenvolvedor definir. Normalmente, isso é apenas precisão, a porcentagem de classes que a rede previu corretamente. Outras opções são [precisão e recall](https://en.wikipedia.org/wiki/Precision_and_recall#Definition_(classification_context)) e taxa de erro dos 5 principais. Vamos nos concentrar na precisão aqui. Primeiro, farei uma passagem direta com um lote do conjunto de testes."
   ]
  },
  {
   "cell_type": "code",
   "execution_count": 8,
   "metadata": {},
   "outputs": [
    {
     "name": "stdout",
     "output_type": "stream",
     "text": [
      "torch.Size([64, 10])\n"
     ]
    }
   ],
   "source": [
    "model = Classifier()\n",
    "\n",
    "images, labels = next(iter(testloader))\n",
    "# Get the class probabilities\n",
    "ps = torch.exp(model(images))\n",
    "# Make sure the shape is appropriate, we should get 10 class probabilities for 64 examples\n",
    "print(ps.shape)"
   ]
  },
  {
   "cell_type": "markdown",
   "metadata": {},
   "source": [
    "Com as probabilidades, podemos obter a classe mais provável usando o método `ps.topk`. Isso retorna os valores mais altos de $k$. Como queremos apenas a classe mais provável, podemos usar `ps.topk(1)`. Isso retorna uma tupla dos principais valores $k$ e dos principais índices $k$. Se o valor mais alto for o quinto elemento, receberemos 4 como índice."
   ]
  },
  {
   "cell_type": "code",
   "execution_count": 9,
   "metadata": {},
   "outputs": [
    {
     "name": "stdout",
     "output_type": "stream",
     "text": [
      "tensor([[5],\n",
      "        [5],\n",
      "        [5],\n",
      "        [5],\n",
      "        [5],\n",
      "        [5],\n",
      "        [5],\n",
      "        [5],\n",
      "        [5],\n",
      "        [5]])\n"
     ]
    }
   ],
   "source": [
    "top_p, top_class = ps.topk(1, dim=1)\n",
    "# Look at the most likely classes for the first 10 examples\n",
    "print(top_class[:10,:])"
   ]
  },
  {
   "cell_type": "markdown",
   "metadata": {},
   "source": [
    "Agora podemos verificar se as classes previstas correspondem aos rótulos. Isso é simples de fazer igualando `top_class` e `labels`, mas temos que ter cuidado com as formas. Aqui `top_class` é um tensor 2D com forma `(64, 1)` enquanto `labels` é 1D com forma `(64)`. Para que a igualdade funcione da maneira que desejamos, `top_class` e `labels` devem ter o mesmo formato.\n",
    "\n",
    "Se nós fizermos\n",
    "\n",
    "```píton\n",
    "equals = top_class == labels\n",
    "```\n",
    "\n",
    "`equals` terá a forma `(64, 64)`, experimente você mesmo. O que ele está fazendo é comparar o único elemento em cada linha de `top_class` com cada elemento em `labels`, que retorna 64 valores booleanos Verdadeiro/Falso para cada linha. Para evitar isso, usamos o método `.view` em `labels` para transformá-lo no mesmo formato de `top_class`. (O `*top_class.shape` descompacta os valores da forma, então neste caso é o mesmo que escrever `labels.view(64, 1)`)."
   ]
  },
  {
   "cell_type": "code",
   "execution_count": 10,
   "metadata": {},
   "outputs": [],
   "source": [
    "equals = top_class == labels.view(*top_class.shape)"
   ]
  },
  {
   "cell_type": "markdown",
   "metadata": {},
   "source": [
    "Agora precisamos calcular a porcentagem de previsões corretas. `equals` tem valores binários, 0 ou 1. Isso significa que se apenas somarmos todos os valores e dividirmos pelo número de valores, obteremos a porcentagem de previsões corretas. Esta é a mesma operação que calcular a média, então podemos obter a precisão com uma chamada para `torch.mean`. Se fosse assim tão simples. Se você tentar `torch.mean(equals)`, receberá um erro\n",
    "\n",
    "```\n",
    "RuntimeError: a média não está implementada para o tipo torch.ByteTensor\n",
    "```\n",
    "\n",
    "Isso acontece porque `equals` tem o tipo `torch.ByteTensor` mas `torch.mean` não está implementado para tensores com esse tipo. Portanto, precisaremos converter `equals` em um tensor flutuante. Observe que quando pegamos `torch.mean` ele retorna um tensor escalar, para obter o valor real como um float, precisaremos fazer `accuracy.item()`."
   ]
  },
  {
   "cell_type": "code",
   "execution_count": 11,
   "metadata": {},
   "outputs": [
    {
     "name": "stdout",
     "output_type": "stream",
     "text": [
      "Accuracy: 10.9375%\n"
     ]
    }
   ],
   "source": [
    "accuracy = torch.mean(equals.type(torch.FloatTensor))\n",
    "print(f'Accuracy: {accuracy.item()*100}%')"
   ]
  },
  {
   "cell_type": "markdown",
   "metadata": {},
   "source": [
    "A rede não está treinada, então está fazendo suposições aleatórias e devemos ver uma precisão em torno de 10%. Agora vamos treinar nossa rede e incluir nossa passagem de validação para que possamos medir o desempenho da rede no conjunto de teste. Como não estamos atualizando nossos parâmetros na passagem de validação, podemos acelerar nosso código desativando gradientes usando `torch.no_grad()`:\n",
    "\n",
    "```python\n",
    "# turn off gradients\n",
    "with torch.no_grad():\n",
    "    # validation pass here\n",
    "    for images, labels in testloader:\n",
    "        ...\n",
    "```\n",
    ">**Exercício:** Implemente o loop de validação abaixo e imprima a precisão total após o loop. Em grande parte, você pode copiar e colar o código acima, mas sugiro digitá-lo porque escrevê-lo você mesmo é essencial para desenvolver a habilidade. Em geral, você sempre aprenderá mais digitando em vez de copiar e colar. Você deve conseguir uma precisão acima de 80%."
   ]
  },
  {
   "cell_type": "code",
   "execution_count": null,
   "metadata": {},
   "outputs": [],
   "source": [
    "model = Classifier()\n",
    "criterion = nn.NLLLoss()\n",
    "optimizer = optim.Adam(model.parameters(), lr=0.003)\n",
    "\n",
    "epochs = 30\n",
    "steps = 0\n",
    "\n",
    "train_losses, test_losses = [], []\n",
    "for e in range(epochs):\n",
    "    running_loss = 0\n",
    "    for images, labels in trainloader:\n",
    "        \n",
    "        optimizer.zero_grad()\n",
    "        \n",
    "        log_ps = model(images)\n",
    "        loss = criterion(log_ps, labels)\n",
    "        loss.backward()\n",
    "        optimizer.step()\n",
    "        \n",
    "        running_loss += loss.item()\n",
    "        \n",
    "    else:\n",
    "        ## TODO: Implement the validation pass and print out the validation accuracy\n",
    "        testt_loss = 0\n",
    "        accuray = 0\n",
    "\n",
    "        # Desativa o cálculo de gradientes para a validação, economizando memória e computação\n",
    "        with torch.no_grad():\n",
    "            for images, labels in testloader:\n",
    "                log_ps = model(images)\n",
    "                test_losses += criterion(log_ps, labels)\n",
    "\n",
    "                ps = torch.exp(log_ps)\n",
    "                top_p, top_class = ps.topk(1, dim=1)\n",
    "                equals = top_class == labels.view(*top_class.shape)\n",
    "                accuracy += torch.mean(equals.type(torch.FloatTensor))\n",
    "                \n",
    "            \n",
    "        train_losses.append(running_loss/len(trainloader))\n",
    "        test_losses.append(test_losses/len(testloader))\n",
    "\n",
    "        print(\"Epoch: {}/{}.. \".format(e+1, epochs),\n",
    "              \"Training Loss: {:.3f}.. \".format(running_loss/len(trainloader)),\n",
    "              \"Test Loss: {:.3f}.. \".format(test_losses/len(testloader)),\n",
    "              \"Test Accuracy: {:.3f}\".format(accuracy/len(testloader)))\n",
    "\n",
    "\n",
    "        print(f'Accuracy: {accuracy.item()*100}%')\n",
    "\n",
    "\n",
    "        "
   ]
  },
  {
   "cell_type": "code",
   "execution_count": null,
   "metadata": {},
   "outputs": [
    {
     "name": "stdout",
     "output_type": "stream",
     "text": [
      "Epoch: 1/5..  Training Loss: 0.517..  Test Loss: 0.474..  Test Accuracy: 0.825\n",
      "Accuracy: 12951.5625%\n",
      "Epoch: 2/5..  Training Loss: 0.393..  Test Loss: 0.511..  Test Accuracy: 0.819\n",
      "Accuracy: 12865.625%\n",
      "Epoch: 3/5..  Training Loss: 0.359..  Test Loss: 0.388..  Test Accuracy: 0.861\n",
      "Accuracy: 13510.9375%\n",
      "Epoch: 4/5..  Training Loss: 0.334..  Test Loss: 0.389..  Test Accuracy: 0.858\n",
      "Accuracy: 13476.5625%\n",
      "Epoch: 5/5..  Training Loss: 0.318..  Test Loss: 0.379..  Test Accuracy: 0.864\n",
      "Accuracy: 13560.9375%\n"
     ]
    }
   ],
   "source": [
    "model = Classifier()\n",
    "criterion = nn.NLLLoss()\n",
    "optimizer = optim.Adam(model.parameters(), lr=0.003)\n",
    "\n",
    "epochs = 5\n",
    "steps = 0\n",
    "\n",
    "train_losses, test_losses = [], []\n",
    "for e in range(epochs):\n",
    "    running_loss = 0\n",
    "    for images, labels in trainloader:\n",
    "        \n",
    "        optimizer.zero_grad()\n",
    "        \n",
    "        log_ps = model(images)\n",
    "        loss = criterion(log_ps, labels)\n",
    "        loss.backward()\n",
    "        optimizer.step()\n",
    "        \n",
    "        running_loss += loss.item()\n",
    "        \n",
    "    else:\n",
    "        ## TODO: Implement the validation pass and print out the validation accuracy\n",
    "        test_loss = 0\n",
    "        accuracy = 0\n",
    "\n",
    "        # Desativa o cálculo de gradientes para a validação, economizando memória e computação\n",
    "        with torch.no_grad():\n",
    "            for images, labels in testloader:\n",
    "                log_ps = model(images)\n",
    "                test_loss += criterion(log_ps, labels)\n",
    "\n",
    "                ps = torch.exp(log_ps)\n",
    "                top_p, top_class = ps.topk(1, dim=1)\n",
    "                equals = top_class == labels.view(*top_class.shape)\n",
    "                accuracy += torch.mean(equals.type(torch.FloatTensor))\n",
    "                \n",
    "        train_losses.append(running_loss/len(trainloader))\n",
    "        test_losses.append(test_loss/len(testloader))\n",
    "\n",
    "        print(\"Epoch: {}/{}.. \".format(e+1, epochs),\n",
    "              \"Training Loss: {:.3f}.. \".format(running_loss/len(trainloader)),\n",
    "              \"Test Loss: {:.3f}.. \".format(test_loss/len(testloader)),\n",
    "              \"Test Accuracy: {:.3f}\".format(accuracy/len(testloader)))\n",
    "\n",
    "        print(f'Accuracy: {accuracy.item()*100}%')\n"
   ]
  },
  {
   "cell_type": "markdown",
   "metadata": {},
   "source": [
    "## Overfitting\n",
    "\n",
    "Se observarmos as perdas de treinamento e validação à medida que treinamos a rede, podemos ver um fenômeno conhecido como overfitting.\n",
    "\n",
    "<img src='assets/overfitting.png' largura=450px>\n",
    "\n",
    "A rede aprende cada vez melhor o conjunto de treinamento, resultando em menores perdas de treinamento. No entanto, começa a ter problemas ao generalizar para dados fora do conjunto de treinamento, levando ao aumento da perda de validação. O objetivo final de qualquer modelo de aprendizagem profunda é fazer previsões sobre novos dados, por isso devemos nos esforçar para obter a menor perda de validação possível. Uma opção é usar a versão do modelo com menor perda de validação, aqui aquela em torno de 8 a 10 épocas de treinamento. Esta estratégia é chamada de *early-stopping*. Na prática, você salvaria o modelo com frequência durante o treinamento e, posteriormente, escolheria o modelo com a menor perda de validação.\n",
    "\n",
    "O método mais comum para reduzir o overfitting (fora da parada antecipada) é o *dropout*, onde descartamos unidades de entrada aleatoriamente. Isto força a rede a compartilhar informações entre pesos, aumentando sua capacidade de generalização para novos dados. Adicionar dropout no PyTorch é simples usando o módulo [`nn.Dropout`](https://pytorch.org/docs/stable/nn.html#torch.nn.Dropout).\n",
    "\n",
    "```python\n",
    "class Classifier(nn.Module):\n",
    "    def __init__(self):\n",
    "        super().__init__()\n",
    "        self.fc1 = nn.Linear(784, 256)\n",
    "        self.fc2 = nn.Linear(256, 128)\n",
    "        self.fc3 = nn.Linear(128, 64)\n",
    "        self.fc4 = nn.Linear(64, 10)\n",
    "        \n",
    "        # Dropout module with 0.2 drop probability\n",
    "        self.dropout = nn.Dropout(p=0.2)\n",
    "        \n",
    "    def forward(self, x):\n",
    "        # make sure input tensor is flattened\n",
    "        x = x.view(x.shape[0], -1)\n",
    "        \n",
    "        # Now with dropout\n",
    "        x = self.dropout(F.relu(self.fc1(x)))\n",
    "        x = self.dropout(F.relu(self.fc2(x)))\n",
    "        x = self.dropout(F.relu(self.fc3(x)))\n",
    "        \n",
    "        # output so no dropout here\n",
    "        x = F.log_softmax(self.fc4(x), dim=1)\n",
    "        \n",
    "        return x\n",
    "```\n",
    "\n",
    "Durante o treinamento queremos usar o dropout para evitar overfitting, mas durante a inferência queremos usar a rede inteira. Portanto, precisamos desligar o dropout durante a validação, teste e sempre que usarmos a rede para fazer previsões. Para fazer isso, você usa `model.eval()`. Isso define o modelo para o modo de avaliação onde a probabilidade de dropout é 0. Você pode ativar o dropout novamente configurando o modelo para o modo de treinamento com `model.train()`. Em geral, o padrão para o loop de validação será semelhante a este, onde você desativa os gradientes, define o modelo para o modo de avaliação, calcula a perda de validação e a métrica e, em seguida, define o modelo novamente para o modo de treinamento.\n",
    "\n",
    "```python\n",
    "# turn off gradients\n",
    "with torch.no_grad():\n",
    "    \n",
    "    # set model to evaluation mode\n",
    "    model.eval()\n",
    "    \n",
    "    # validation pass here\n",
    "    for images, labels in testloader:\n",
    "        ...\n",
    "\n",
    "# set model back to train mode\n",
    "model.train()\n",
    "```"
   ]
  },
  {
   "cell_type": "markdown",
   "metadata": {},
   "source": [
    "> **Exercício:** Adicione dropout ao seu modelo e treine-o novamente no Fashion-MNIST. Veja se você consegue uma menor perda de validação ou maior precisão."
   ]
  },
  {
   "cell_type": "code",
   "execution_count": 13,
   "metadata": {},
   "outputs": [],
   "source": [
    "## TODO: Define your model with dropout added\n",
    "class ClassifierWithDropout(nn.Module):\n",
    "    def __init__(self):\n",
    "        super(ClassifierWithDropout, self).__init__()\n",
    "        self.fc1 = nn.Linear(784, 256)\n",
    "        self.fc2 = nn.Linear(256, 128)\n",
    "        self.fc3 = nn.Linear(128, 64)\n",
    "        self.fc4 = nn.Linear(64, 10)\n",
    "        self.dropout = nn.Dropout(p=0.2)  # Dropout probability of 20%\n",
    "\n",
    "    def forward(self, x):\n",
    "        # Flatten the input tensor\n",
    "        x = x.view(x.shape[0], -1)\n",
    "        # Pass through the first fully connected layer with ReLU activation and dropout\n",
    "        x = F.relu(self.fc1(x))\n",
    "        x = self.dropout(x)\n",
    "        # Pass through the second fully connected layer with ReLU activation and dropout\n",
    "        x = F.relu(self.fc2(x))\n",
    "        x = self.dropout(x)\n",
    "        # Pass through the third fully connected layer with ReLU activation and dropout\n",
    "        x = F.relu(self.fc3(x))\n",
    "        x = self.dropout(x)\n",
    "        # Output layer with log softmax activation\n",
    "        x = F.log_softmax(self.fc4(x), dim=1)\n",
    "        return x\n",
    "    "
   ]
  },
  {
   "cell_type": "code",
   "execution_count": 17,
   "metadata": {},
   "outputs": [
    {
     "name": "stdout",
     "output_type": "stream",
     "text": [
      "Epoch: 1/5..  Training Loss: 0.604..  Test Loss: 0.464..  Test Accuracy: 0.833\n",
      "Accuracy: 13082.8125%\n",
      "Epoch: 2/5..  Training Loss: 0.480..  Test Loss: 0.425..  Test Accuracy: 0.847\n",
      "Accuracy: 13295.3125%\n",
      "Epoch: 3/5..  Training Loss: 0.447..  Test Loss: 0.408..  Test Accuracy: 0.854\n",
      "Accuracy: 13407.8125%\n",
      "Epoch: 4/5..  Training Loss: 0.433..  Test Loss: 0.437..  Test Accuracy: 0.845\n",
      "Accuracy: 13270.3125%\n",
      "Epoch: 5/5..  Training Loss: 0.416..  Test Loss: 0.434..  Test Accuracy: 0.849\n",
      "Accuracy: 13334.375%\n"
     ]
    }
   ],
   "source": [
    "## TODO: Train your model with dropout, and monitor the training progress with the validation loss and accuracy\n",
    "model = ClassifierWithDropout()\n",
    "criterion = nn.NLLLoss()\n",
    "optimizer = optim.Adam(model.parameters(), lr=0.003)\n",
    "\n",
    "epochs = 5\n",
    "steps = 0\n",
    "\n",
    "train_losses, test_losses = [], []\n",
    "for e in range(epochs):\n",
    "    running_loss = 0\n",
    "    for images, labels in trainloader:\n",
    "        \n",
    "        optimizer.zero_grad()\n",
    "        \n",
    "        log_ps = model(images)\n",
    "        loss = criterion(log_ps, labels)\n",
    "        loss.backward()\n",
    "        optimizer.step()\n",
    "        \n",
    "        running_loss += loss.item()\n",
    "        \n",
    "    else:\n",
    "        ## TODO: Implement the validation pass and print out the validation accuracy\n",
    "        test_loss = 0\n",
    "        accuracy = 0\n",
    "\n",
    "        # Desativa o cálculo de gradientes para a validação, economizando memória e computação\n",
    "        \n",
    "        model.eval()\n",
    "        with torch.no_grad():\n",
    "            for images, labels in testloader:\n",
    "                log_ps = model(images)\n",
    "                test_loss += criterion(log_ps, labels)\n",
    "\n",
    "                ps = torch.exp(log_ps)\n",
    "                top_p, top_class = ps.topk(1, dim=1)\n",
    "                equals = top_class == labels.view(*top_class.shape)\n",
    "                accuracy += torch.mean(equals.type(torch.FloatTensor))\n",
    "\n",
    "            #coloca o modelo de volta no modo treinamento\n",
    "            model.train()\n",
    "                \n",
    "        train_losses.append(running_loss/len(trainloader))\n",
    "        test_losses.append(test_loss/len(testloader))\n",
    "\n",
    "        print(\"Epoch: {}/{}.. \".format(e+1, epochs),\n",
    "              \"Training Loss: {:.3f}.. \".format(running_loss/len(trainloader)),\n",
    "              \"Test Loss: {:.3f}.. \".format(test_loss/len(testloader)),\n",
    "              \"Test Accuracy: {:.3f}\".format(accuracy/len(testloader)))\n",
    "\n",
    "        print(f'Accuracy: {accuracy.item()*100}%')\n"
   ]
  },
  {
   "cell_type": "markdown",
   "metadata": {},
   "source": [
    "## Inference\n",
    "\n",
    "Agora que o modelo está treinado, podemos usá-lo para inferência. Já fizemos isso antes, mas agora precisamos lembrar de definir o modelo no modo de inferência com `model.eval()`. Você também deseja desativar a autogradação com o contexto `torch.no_grad()`."
   ]
  },
  {
   "cell_type": "code",
   "execution_count": 21,
   "metadata": {},
   "outputs": [
    {
     "data": {
      "image/png": "[encoded data removed]",
      "text/plain": [
       "<Figure size 600x900 with 2 Axes>"
      ]
     },
     "metadata": {},
     "output_type": "display_data"
    }
   ],
   "source": [
    "# Import helper module (should be in the repo)\n",
    "import helper\n",
    "\n",
    "# Test out your network!\n",
    "#model = ClassifierWithDropout()\n",
    "#model.load_state_dict(torch.load('model.pth'))\n",
    "\n",
    "model.eval()\n",
    "\n",
    "dataiter = iter(testloader)\n",
    "images, labels = next(dataiter)\n",
    "img = images[0]\n",
    "# Convert 2D image to 1D vector\n",
    "img = img.view(1, 784)\n",
    "\n",
    "# Calculate the class probabilities (softmax) for img\n",
    "with torch.no_grad():\n",
    "    output = model.forward(img)\n",
    "\n",
    "ps = torch.exp(output)\n",
    "\n",
    "# Plot the image and probabilities\n",
    "helper.view_classify(img.view(1, 28, 28), ps, version='Fashion')"
   ]
  },
  {
   "cell_type": "markdown",
   "metadata": {},
   "source": [
    "## Próximo!\n",
    "\n",
    "Na próxima parte, mostrarei como salvar seus modelos treinados. Em geral, você não deseja treinar um modelo sempre que precisar. Em vez disso, você treinará uma vez, salvará e carregará o modelo quando quiser treinar mais ou usá-lo para inferência."
   ]
  }
 ],
 "metadata": {
  "kernelspec": {
   "display_name": "Python 3",
   "language": "python",
   "name": "python3"
  },
  "language_info": {
   "codemirror_mode": {
    "name": "ipython",
    "version": 3
   },
   "file_extension": ".py",
   "mimetype": "text/x-python",
   "name": "python",
   "nbconvert_exporter": "python",
   "pygments_lexer": "ipython3",
   "version": "3.11.8"
  }
 },
 "nbformat": 4,
 "nbformat_minor": 2
}
